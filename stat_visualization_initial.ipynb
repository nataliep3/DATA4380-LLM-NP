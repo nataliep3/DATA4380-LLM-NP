{
 "cells": [
  {
   "cell_type": "code",
   "execution_count": 2,
   "id": "672a13f8-ccd5-4946-9638-f1e676483b8b",
   "metadata": {},
   "outputs": [],
   "source": [
    "# importing necessities\n",
    "import json\n",
    "import numpy as np\n",
    "import matplotlib.pyplot as plt"
   ]
  },
  {
   "cell_type": "code",
   "execution_count": 3,
   "id": "0fe53c62-d15f-4a5c-8993-01c18f31056b",
   "metadata": {},
   "outputs": [
    {
     "name": "stdout",
     "output_type": "stream",
     "text": [
      "Mean rating: 3.96\n",
      "Median rating: 4.00\n",
      "Standard deviation: 0.54\n",
      "Total samples: 24\n"
     ]
    },
    {
     "data": {
      "image/png": "[encoded data removed]",
      "text/plain": [
       "<Figure size 800x500 with 1 Axes>"
      ]
     },
     "metadata": {},
     "output_type": "display_data"
    },
    {
     "name": "stdout",
     "output_type": "stream",
     "text": [
      "\n",
      "Examples of poor matches:\n",
      "\n",
      "File: psychpaper25.pdf\n",
      "Rating: 2\n",
      "Explanation: The summary touches on some key points mentioned in the abstract, such as the impact of natural disasters, COVID-19 stress, and the importance of empathy and social support. However, it lacks specificity and coherence in summarizing the research papers mentioned in the abstract.\n",
      "==================================================\n",
      "File: psychpaper07.pdf\n",
      "Rating: 3\n",
      "Explanation: The summary captures some key points from the abstract, such as the focus on mental health interventions for young people in low-resource settings, the importance of involving parents, and the challenges associated with parental involvement. However, it lacks details on the specific mechanisms for engaging parents and the study's methodology.\n",
      "==================================================\n",
      "File: psychpaper14.pdf\n",
      "Rating: 4\n",
      "Explanation: The summary effectively captures the key points of the abstract, including the problem of returns on e-commerce platforms, the role of perceived information overload, impulsive buying behavior, cognitive dissonance, and the moderating effect of perceived environmental effectiveness. It also mentions the importance of clear information and recommendations to reduce return rates.\n",
      "==================================================\n",
      "\n",
      "Examples of excellent matches:\n",
      "\n",
      "File: psychpaper24.pdf\n",
      "Rating: 4\n",
      "Explanation: The summary effectively captures the key points of the abstract, including the relationship between emotional intelligence, work-family support, and employee wellbeing among college teachers. It also mentions the mediating role of work-family support and suggests future research directions. However, it could provide more detail on the specific coding process and analysis methods mentioned in the abstract.\n",
      "==================================================\n",
      "File: psychpaper09.pdf\n",
      "Rating: 5\n",
      "Explanation: The summary effectively captures the key points of the abstract, including the relationship between social anhedonia and emotional forecasting accuracy in individuals with SSDs, the differences in forecasting negative and positive emotions, and the implications for interventions and further research.\n",
      "==================================================\n",
      "File: psychpaper19.pdf\n",
      "Rating: 5\n",
      "Explanation: The summary accurately captures the key points of the abstract, including the relationship between job satisfaction, vocational delay of gratification, and work engagement among Chinese kindergarten teachers, as well as the mediating role of vocational delay of gratification. It also highlights the importance of understanding these dynamics in the context of Chinese culture and the potential implications for teaching quality and education outcomes.\n",
      "==================================================\n"
     ]
    }
   ],
   "source": [
    "# json comparison file path\n",
    "COMPARISONS_JSON = \"/Users/nataliepegues/data4380.np/llm_workspace/data/comparisons.json\"\n",
    "\n",
    "# loading comparison results\n",
    "with open(COMPARISONS_JSON, \"r\") as f:\n",
    "    comparisons = json.load(f)\n",
    "\n",
    "# extracting ratings\n",
    "ratings = [entry[\"rating\"] for entry in comparisons if entry[\"rating\"] is not None]\n",
    "\n",
    "# statistical summaries\n",
    "mean_rating = np.mean(ratings)\n",
    "median_rating = np.median(ratings)\n",
    "std_rating = np.std(ratings)\n",
    "\n",
    "print(f\"Mean rating: {mean_rating:.2f}\")\n",
    "print(f\"Median rating: {median_rating:.2f}\")\n",
    "print(f\"Standard deviation: {std_rating:.2f}\")\n",
    "print(f\"Total samples: {len(ratings)}\")\n",
    "\n",
    "# plotting rating distribution\n",
    "plt.figure(figsize=(8,5))\n",
    "plt.hist(ratings, bins=5, edgecolor='black', rwidth=0.8)\n",
    "plt.title(\"Distribution of Summary vs Abstract Ratings\")\n",
    "plt.xlabel(\"Rating (1 = poor, 5 = excellent)\")\n",
    "plt.ylabel(\"Count\")\n",
    "plt.xticks([1, 2, 3, 4, 5])\n",
    "plt.show()\n",
    "\n",
    "# showing examples\n",
    "sorted_comparisons = sorted(\n",
    "    [c for c in comparisons if c[\"rating\"] is not None],\n",
    "    key=lambda x: x[\"rating\"]\n",
    ")\n",
    "\n",
    "print(\"\\nExamples of poor matches:\\n\")\n",
    "for entry in sorted_comparisons[:3]:\n",
    "    print(f\"File: {entry['filename']}\")\n",
    "    print(f\"Rating: {entry['rating']}\")\n",
    "    print(f\"Explanation: {entry['explanation']}\")\n",
    "    print(\"=\"*50)\n",
    "\n",
    "print(\"\\nExamples of excellent matches:\\n\")\n",
    "for entry in sorted_comparisons[-3:]:\n",
    "    print(f\"File: {entry['filename']}\")\n",
    "    print(f\"Rating: {entry['rating']}\")\n",
    "    print(f\"Explanation: {entry['explanation']}\")\n",
    "    print(\"=\"*50)\n"
   ]
  },
  {
   "cell_type": "code",
   "execution_count": null,
   "id": "7c736e80-5c46-4ce0-81e3-ae6cd2315305",
   "metadata": {},
   "outputs": [],
   "source": []
  }
 ],
 "metadata": {
  "kernelspec": {
   "display_name": "Python (llm-venv)",
   "language": "python",
   "name": "llm-venv"
  },
  "language_info": {
   "codemirror_mode": {
    "name": "ipython",
    "version": 3
   },
   "file_extension": ".py",
   "mimetype": "text/x-python",
   "name": "python",
   "nbconvert_exporter": "python",
   "pygments_lexer": "ipython3",
   "version": "3.10.11"
  }
 },
 "nbformat": 4,
 "nbformat_minor": 5
}
